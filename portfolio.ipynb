{
 "cells": [
  {
   "cell_type": "markdown",
   "id": "19d2ba81",
   "metadata": {},
   "source": [
    "# Determinants of required rates of return\n",
    "\n",
    "You will recall that this selection process involves find-\n",
    "ing securities that provide a rate of return that compensates you for: \n",
    "- (1) The time value of money during the period of investment.\n",
    "- (2) The expected rate of inflation during the period.\n",
    "- (3) The risk involved.\n",
    "\n",
    "\n",
    "The summation of these three components is called the required rate of return. This is the\n",
    "minimum rate of return that you should accept from an investment to compensate you for\n",
    "deferring consumption. Because of the importance of the required rate of return to the total\n",
    "investment selection process, this section contains a discussion of the three components and\n",
    "what influences each of them.\n",
    "\n",
    "\n",
    "\n",
    "A positive relationship exists\n",
    "between the real growth rate in the economy and the RRFR."
   ]
  },
  {
   "cell_type": "markdown",
   "id": "df536ed4",
   "metadata": {},
   "source": [
    "## Factoring influencing the nominal risk free rate (NRFR)\n",
    "As noted, two other factors influence the nominal risk-free rate (NRFR): \n",
    "- (1) The relative ease or tightness in the capital markets. \n",
    "- (2) The expected rate of inflation."
   ]
  },
  {
   "cell_type": "code",
   "execution_count": 3,
   "id": "40e0d868",
   "metadata": {},
   "outputs": [],
   "source": [
    "import pandas as pd\n",
    "import numpy as np\n"
   ]
  }
 ],
 "metadata": {
  "kernelspec": {
   "display_name": ".venv",
   "language": "python",
   "name": "python3"
  },
  "language_info": {
   "codemirror_mode": {
    "name": "ipython",
    "version": 3
   },
   "file_extension": ".py",
   "mimetype": "text/x-python",
   "name": "python",
   "nbconvert_exporter": "python",
   "pygments_lexer": "ipython3",
   "version": "3.12.3"
  }
 },
 "nbformat": 4,
 "nbformat_minor": 5
}
